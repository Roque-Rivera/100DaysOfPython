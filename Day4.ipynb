{
 "metadata": {
  "language_info": {
   "codemirror_mode": {
    "name": "ipython",
    "version": 3
   },
   "file_extension": ".py",
   "mimetype": "text/x-python",
   "name": "python",
   "nbconvert_exporter": "python",
   "pygments_lexer": "ipython3",
   "version": "3.8.11"
  },
  "orig_nbformat": 4,
  "kernelspec": {
   "name": "python3",
   "display_name": "Python 3.8.11 64-bit ('100dayspython': pyenv)"
  },
  "interpreter": {
   "hash": "246d07c0861cb424277eecaa540acb1c9f060cd38375eba5143521197e7b771d"
  }
 },
 "nbformat": 4,
 "nbformat_minor": 2,
 "cells": [
  {
   "source": [
    "## Day 4 - random\n",
    "### Generate random numbers"
   ],
   "cell_type": "markdown",
   "metadata": {}
  },
  {
   "cell_type": "code",
   "execution_count": 93,
   "metadata": {},
   "outputs": [
    {
     "output_type": "stream",
     "name": "stdout",
     "text": [
      "Your random int, Sir: 2\nYour random float, Sir: 0.7368385177976324\nYour random number, Sir: 2.74\n"
     ]
    }
   ],
   "source": [
    "import random\n",
    "random_int = random.randint(1,4)\n",
    "random_float = random.random()\n",
    "print(f\"Your random int, Sir: {random_int}\")\n",
    "print(f\"Your random float, Sir: {random_float}\")\n",
    "print(f\"Your random number, Sir: {round(float(random_int+random_float),2)}\"2)"
   ]
  },
  {
   "source": [
    "### Generate Heads or Tails"
   ],
   "cell_type": "markdown",
   "metadata": {}
  },
  {
   "cell_type": "code",
   "execution_count": 105,
   "metadata": {},
   "outputs": [
    {
     "output_type": "stream",
     "name": "stdout",
     "text": [
      "Heads\n"
     ]
    }
   ],
   "source": [
    "import random\n",
    "random_result = random.randint(1,10)\n",
    "if random_result % 2 == 0:\n",
    "    result = \"Heads\"\n",
    "else:\n",
    "    result = \"Tails\"\n",
    "print(result)"
   ]
  },
  {
   "source": [
    "### Who is paying\n",
    "# Instructions\n",
    "\n",
    "You are going to write a program which will select a random name from a list of names. The person selected will have to pay for everybody's food bill. \n",
    "\n",
    "**Important**: You are not allowed to use the `choice()` function.\n",
    "\n",
    "**Line 8** splits the string `names_string` into individual names and puts them inside a **List** called `names`. For this to work, you must enter all the names as name followed by comma then space. e.g. name, name, name\n",
    "\n",
    "### Example Input\n",
    "\n",
    "```\n",
    "Angela, Ben, Jenny, Michael, Chloe\n",
    "```\n",
    "Note: notice that there is a space between the comma and the next name. \n",
    "### Example Output\n",
    "\n",
    "```\n",
    "Michael is going to buy the meal today!\n",
    "```\n",
    "\n",
    "\n",
    "### Hint\n",
    "\n",
    "1. You might need the help of the `len()` function.   \n",
    "\n",
    "[https://stackoverflow.com/questions/1712227/how-do-i-get-the-number-of-elements-in-a-list](https://stackoverflow.com/questions/1712227/how-do-i-get-the-number-of-elements-in-a-list)\n",
    "\n",
    "2. Remember that Lists start at index 0!\n",
    "\n",
    "### Solution\n",
    "\n",
    "[https://repl.it/@appbrewery/day-4-2-solution](https://repl.it/@appbrewery/day-4-2-solution)"
   ],
   "cell_type": "markdown",
   "metadata": {}
  },
  {
   "cell_type": "code",
   "execution_count": 113,
   "metadata": {},
   "outputs": [
    {
     "output_type": "stream",
     "name": "stdout",
     "text": [
      "Se están rifando hostias entre ['Paco', 'Antonio', 'Pepe', 'Antonia', 'María', 'Paca']\nEl número premiado de hoy es el 1 que corresponde a Antonio, prepárate para recibir.\n"
     ]
    }
   ],
   "source": [
    "import random\n",
    "# Split string method\n",
    "names_string = input(\"Give me everybody's names, separated by a comma. \")\n",
    "names = names_string.split(\", \")\n",
    "# 🚨 Don't change the code above 👆\n",
    "\n",
    "print(f\"Se están rifando hostias entre {names}\")\n",
    "index_premio = random.randint(0,len(names)-1)\n",
    "print(f\"El número premiado de hoy es el {index_premio} que corresponde a {names[index_premio]}, prepárate para recibir.\")\n"
   ]
  },
  {
   "source": [
    "## Treasure Map"
   ],
   "cell_type": "markdown",
   "metadata": {}
  },
  {
   "cell_type": "code",
   "execution_count": 10,
   "metadata": {},
   "outputs": [
    {
     "output_type": "stream",
     "name": "stdout",
     "text": [
      "['⬜️', '⬜️', '⬜️']\n",
      "['⬜️', '⬜️', '⬜️']\n",
      "['⬜️', '⬜️', '⬜️']\n",
      "\n",
      "['⬜️', '⬜️', '⬜️']\n",
      "['⬜️', ' X', '⬜️']\n",
      "['⬜️', '⬜️', '⬜️']\n"
     ]
    }
   ],
   "source": [
    "# 🚨 Don't change the code below 👇\n",
    "row1 = [\"⬜️\",\"⬜️\",\"⬜️\"]\n",
    "row2 = [\"⬜️\",\"⬜️\",\"⬜️\"]\n",
    "row3 = [\"⬜️\",\"⬜️\",\"⬜️\"]\n",
    "map = [row1, row2, row3]\n",
    "print(f\"{row1}\\n{row2}\\n{row3}\")\n",
    "position = input(\"Where do you want to put the treasure? \")\n",
    "# 🚨 Don't change the code above 👆\n",
    "\n",
    "coord = list(position)\n",
    "coord_x = int(coord[0])\n",
    "coord_y = int(coord[1])\n",
    "\n",
    "map[coord_x - 1][coord_y -1] = \" X\"\n",
    "\n",
    "print(f\"\\n{row1}\\n{row2}\\n{row3}\")"
   ]
  },
  {
   "source": [
    "Rock, Paper, Scissors"
   ],
   "cell_type": "markdown",
   "metadata": {}
  },
  {
   "cell_type": "code",
   "execution_count": 29,
   "metadata": {},
   "outputs": [
    {
     "output_type": "stream",
     "name": "stdout",
     "text": [
      "You choose rock\n\n    _______\n---'   ____)\n      (_____)\n      (_____)\n      (____)\n---.__(___)\n\nComputer choose rock\n\n    _______\n---'   ____)\n      (_____)\n      (_____)\n      (____)\n---.__(___)\n\nTied, try again\n"
     ]
    }
   ],
   "source": [
    "rock = '''\n",
    "    _______\n",
    "---'   ____)\n",
    "      (_____)\n",
    "      (_____)\n",
    "      (____)\n",
    "---.__(___)\n",
    "'''\n",
    "\n",
    "paper = '''\n",
    "    _______\n",
    "---'   ____)____\n",
    "          ______)\n",
    "          _______)\n",
    "         _______)\n",
    "---.__________)\n",
    "'''\n",
    "\n",
    "scissors = '''\n",
    "    _______\n",
    "---'   ____)____\n",
    "          ______)\n",
    "       __________)\n",
    "      (____)\n",
    "---.__(___)\n",
    "'''\n",
    "\n",
    "import random\n",
    "plays = [\"rock\", \"paper\", \"scissors\"]\n",
    "player_input = input(\"What do you choose? Type 0 for rock, 1 for paper or 2 for scissors :\\n\")\n",
    "player_choose = plays[int(player_input)]\n",
    "computer_choose = plays[random.randint(0,2)]\n",
    "\n",
    "print(\"You choose\", player_choose)\n",
    "if player_choose == \"rock\":\n",
    "    print(rock)\n",
    "elif player_choose == \"paper\":\n",
    "    print(paper)\n",
    "else:\n",
    "    print(scissors)\n",
    "\n",
    "print(\"Computer choose\", computer_choose)\n",
    "if computer_choose == \"rock\":\n",
    "    print(rock)\n",
    "elif computer_choose == \"paper\":\n",
    "    print(paper)\n",
    "else:\n",
    "    print(scissors)\n",
    "\n",
    "if computer_choose == player_choose:\n",
    "    print(\"Tied, try again\")\n",
    "elif player_choose == \"rock\" and computer_choose == \"scissors\":\n",
    "    print(\"You WIN!\")\n",
    "elif player_choose == \"scissors\" and computer_choose == \"paper\":\n",
    "    print(\"You WIN!\")\n",
    "elif player_choose == \"paper\" and computer_choose == \"rock\":\n",
    "    print(\"You WIN!\")\n",
    "else:\n",
    "    print(\"You LOOSE\")\n",
    "\n"
   ]
  }
 ]
}